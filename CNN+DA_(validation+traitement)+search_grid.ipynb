{
  "nbformat": 4,
  "nbformat_minor": 0,
  "metadata": {
    "colab": {
      "provenance": [],
      "gpuType": "T4",
      "include_colab_link": true
    },
    "kernelspec": {
      "name": "python3",
      "display_name": "Python 3"
    },
    "language_info": {
      "name": "python"
    },
    "accelerator": "GPU"
  },
  "cells": [
    {
      "cell_type": "markdown",
      "metadata": {
        "id": "view-in-github",
        "colab_type": "text"
      },
      "source": [
        "<a href=\"https://colab.research.google.com/github/ayarii/CGT/blob/master/CNN%2BDA_(validation%2Btraitement)%2Bsearch_grid.ipynb\" target=\"_parent\"><img src=\"https://colab.research.google.com/assets/colab-badge.svg\" alt=\"Open In Colab\"/></a>"
      ]
    },
    {
      "cell_type": "code",
      "source": [
        "pip install scikeras"
      ],
      "metadata": {
        "colab": {
          "base_uri": "https://localhost:8080/"
        },
        "id": "-Zj7qIgTSXQ2",
        "outputId": "6b6aa69a-9912-4a36-dc80-905abd3e7b86"
      },
      "execution_count": 1,
      "outputs": [
        {
          "output_type": "stream",
          "name": "stdout",
          "text": [
            "Requirement already satisfied: scikeras in /usr/local/lib/python3.10/dist-packages (0.13.0)\n",
            "Requirement already satisfied: keras>=3.2.0 in /usr/local/lib/python3.10/dist-packages (from scikeras) (3.3.3)\n",
            "Requirement already satisfied: scikit-learn>=1.4.2 in /usr/local/lib/python3.10/dist-packages (from scikeras) (1.4.2)\n",
            "Requirement already satisfied: absl-py in /usr/local/lib/python3.10/dist-packages (from keras>=3.2.0->scikeras) (1.4.0)\n",
            "Requirement already satisfied: numpy in /usr/local/lib/python3.10/dist-packages (from keras>=3.2.0->scikeras) (1.25.2)\n",
            "Requirement already satisfied: rich in /usr/local/lib/python3.10/dist-packages (from keras>=3.2.0->scikeras) (13.7.1)\n",
            "Requirement already satisfied: namex in /usr/local/lib/python3.10/dist-packages (from keras>=3.2.0->scikeras) (0.0.8)\n",
            "Requirement already satisfied: h5py in /usr/local/lib/python3.10/dist-packages (from keras>=3.2.0->scikeras) (3.9.0)\n",
            "Requirement already satisfied: optree in /usr/local/lib/python3.10/dist-packages (from keras>=3.2.0->scikeras) (0.11.0)\n",
            "Requirement already satisfied: ml-dtypes in /usr/local/lib/python3.10/dist-packages (from keras>=3.2.0->scikeras) (0.2.0)\n",
            "Requirement already satisfied: scipy>=1.6.0 in /usr/local/lib/python3.10/dist-packages (from scikit-learn>=1.4.2->scikeras) (1.11.4)\n",
            "Requirement already satisfied: joblib>=1.2.0 in /usr/local/lib/python3.10/dist-packages (from scikit-learn>=1.4.2->scikeras) (1.4.2)\n",
            "Requirement already satisfied: threadpoolctl>=2.0.0 in /usr/local/lib/python3.10/dist-packages (from scikit-learn>=1.4.2->scikeras) (3.5.0)\n",
            "Requirement already satisfied: typing-extensions>=4.0.0 in /usr/local/lib/python3.10/dist-packages (from optree->keras>=3.2.0->scikeras) (4.11.0)\n",
            "Requirement already satisfied: markdown-it-py>=2.2.0 in /usr/local/lib/python3.10/dist-packages (from rich->keras>=3.2.0->scikeras) (3.0.0)\n",
            "Requirement already satisfied: pygments<3.0.0,>=2.13.0 in /usr/local/lib/python3.10/dist-packages (from rich->keras>=3.2.0->scikeras) (2.16.1)\n",
            "Requirement already satisfied: mdurl~=0.1 in /usr/local/lib/python3.10/dist-packages (from markdown-it-py>=2.2.0->rich->keras>=3.2.0->scikeras) (0.1.2)\n"
          ]
        }
      ]
    },
    {
      "cell_type": "code",
      "execution_count": 2,
      "metadata": {
        "id": "P0FFga0fefUj"
      },
      "outputs": [],
      "source": [
        "import cv2\n",
        "import numpy as np\n",
        "import requests\n",
        "import matplotlib.pyplot as plt\n",
        "import matplotlib.image as mpimg\n",
        "import sys\n",
        "import datetime\n",
        "from tensorflow import keras\n",
        "from tensorflow.keras.models import Model\n",
        "import tensorflow as tf\n",
        "import pathlib\n",
        "import os\n",
        "import zipfile\n",
        "from tensorflow.keras.callbacks import EarlyStopping\n",
        "from sklearn.metrics import roc_curve, auc\n",
        "from tensorflow.keras import layers\n",
        "from keras.models import Sequential\n",
        "from keras.layers import Conv2D, MaxPooling2D, Flatten, Dense, Dropout, Activation\n",
        "from tensorflow.keras import layers, callbacks\n",
        "from tensorflow.keras.preprocessing.image import ImageDataGenerator\n",
        "from sklearn.model_selection import train_test_split\n",
        "import shutil\n",
        "from tensorflow.keras.callbacks import TensorBoard, EarlyStopping\n",
        "from tensorflow.keras.layers import Conv2D, MaxPooling2D, Flatten, Dense, Dropout\n",
        "from sklearn.model_selection import GridSearchCV\n",
        "\n"
      ]
    },
    {
      "cell_type": "code",
      "source": [
        "#Import dataset\n",
        "data_dir = tf.keras.utils.get_file(\n",
        "    \"dataset.zip\",\n",
        "    \"https://github.com/ayarii/learner-engagement/blob/main/Student-engagement-dataset.zip?raw=true\",\n",
        "    extract=False)\n",
        "with zipfile.ZipFile(data_dir, 'r') as zip_ref:\n",
        "    zip_ref.extractall('/content/datasets')\n",
        "data_dir = pathlib.Path('/content/datasets/Student-engagement-dataset')\n",
        "print(data_dir)\n",
        "print(os.path.abspath(data_dir))\n",
        "\n"
      ],
      "metadata": {
        "colab": {
          "base_uri": "https://localhost:8080/"
        },
        "id": "o2inyj7UlaDz",
        "outputId": "39daed02-cf37-4013-8bd8-362abf7547fb"
      },
      "execution_count": 3,
      "outputs": [
        {
          "output_type": "stream",
          "name": "stdout",
          "text": [
            "/content/datasets/Student-engagement-dataset\n",
            "/content/datasets/Student-engagement-dataset\n"
          ]
        }
      ]
    },
    {
      "cell_type": "code",
      "source": [
        "import shutil\n",
        "\n",
        "# Chemin vers le dossier contenant vos dossiers d'ensemble de données\n",
        "data_dir = '/content/datasets/Student-engagement-dataset'\n",
        "\n",
        "# Chemin vers le dossier où vous souhaitez placer les ensembles de traitement et de validation\n",
        "output_dir = '/content/datasets'\n",
        "\n",
        "# Liste des noms de dossiers dans votre ensemble de données\n",
        "folder_names = os.listdir(data_dir)\n",
        "\n",
        "# Création des dossiers de traitement et de validation s'ils n'existent pas déjà\n",
        "train_dir = os.path.join(output_dir, 'train')\n",
        "val_dir = os.path.join(output_dir, 'validation')\n",
        "os.makedirs(train_dir, exist_ok=True)\n",
        "os.makedirs(val_dir, exist_ok=True)\n",
        "\n",
        "# Répartition des données en ensembles de traitement et de validation\n",
        "for folder_name in folder_names:\n",
        "    folder_path = os.path.join(data_dir, folder_name)\n",
        "    images = os.listdir(folder_path)\n",
        "    train_images, val_images = train_test_split(images, test_size=0.2, random_state=42)\n",
        "\n",
        "    # Création des sous-dossiers dans les ensembles de traitement et de validation\n",
        "    train_folder_path = os.path.join(train_dir, folder_name)\n",
        "    val_folder_path = os.path.join(val_dir, folder_name)\n",
        "    os.makedirs(train_folder_path, exist_ok=True)\n",
        "    os.makedirs(val_folder_path, exist_ok=True)\n",
        "\n",
        "    # Déplacement des images dans les sous-dossiers correspondants\n",
        "    for image in train_images:\n",
        "        shutil.copy(os.path.join(folder_path, image), os.path.join(train_folder_path, image))\n",
        "    for image in val_images:\n",
        "        shutil.copy(os.path.join(folder_path, image), os.path.join(val_folder_path, image))\n",
        "\n",
        "print(\"Données divisées en ensembles de traitement et de validation avec succès.\")\n",
        "\n"
      ],
      "metadata": {
        "colab": {
          "base_uri": "https://localhost:8080/"
        },
        "id": "i4u-fb0d1CbA",
        "outputId": "4489a1de-71c4-4166-9faf-4a223dbd90a2"
      },
      "execution_count": 4,
      "outputs": [
        {
          "output_type": "stream",
          "name": "stdout",
          "text": [
            "Données divisées en ensembles de traitement et de validation avec succès.\n"
          ]
        }
      ]
    },
    {
      "cell_type": "code",
      "source": [
        "# Chemin vers les dossiers d'entraînement et de validation\n",
        "train_dir = '/content/datasets/train/'\n",
        "val_dir = '/content/datasets/validation/'\n",
        "\n",
        "# Fonction pour compter le nombre total d'images dans un dossier\n",
        "def count_images_in_directory(directory):\n",
        "    total_images = 0\n",
        "    # Parcours de chaque sous-dossier dans le répertoire\n",
        "    for sub_directory in os.listdir(directory):\n",
        "        sub_directory_path = os.path.join(directory, sub_directory)\n",
        "        # Comptage des fichiers dans le sous-dossier\n",
        "        if os.path.isdir(sub_directory_path):\n",
        "            num_images = len([filename for filename in os.listdir(sub_directory_path)\n",
        "                              if filename.endswith('.jpg') or filename.endswith('.png') or filename.endswith('.jpeg')])\n",
        "            total_images += num_images\n",
        "    return total_images\n",
        "\n",
        "# Comptage du nombre total d'images dans chaque dossier\n",
        "total_train_images = count_images_in_directory(train_dir)\n",
        "total_val_images = count_images_in_directory(val_dir)\n",
        "\n",
        "# Affichage du nombre total d'images dans chaque dossier\n",
        "print(\"Nombre total d'images dans le dossier d'entraînement :\", total_train_images)\n",
        "print(\"Nombre total d'images dans le dossier de validation :\", total_val_images)\n"
      ],
      "metadata": {
        "colab": {
          "base_uri": "https://localhost:8080/"
        },
        "id": "Y8FJvkBN1XmG",
        "outputId": "6dce3214-4e92-44da-9839-c1e6a509b5d1"
      },
      "execution_count": 5,
      "outputs": [
        {
          "output_type": "stream",
          "name": "stdout",
          "text": [
            "Nombre total d'images dans le dossier d'entraînement : 1694\n",
            "Nombre total d'images dans le dossier de validation : 426\n"
          ]
        }
      ]
    },
    {
      "cell_type": "code",
      "source": [
        "# Chemin vers le dossier contenant vos dossiers d'ensemble de données\n",
        "data_dir = '/content/datasets/Student-engagement-dataset'\n",
        "\n",
        "# Chemin vers le dossier où vous souhaitez placer les ensembles de traitement et de validation\n",
        "output_dir = '/content/datasets'\n",
        "\n",
        "# Liste des noms de dossiers dans votre ensemble de données\n",
        "folder_names = os.listdir(data_dir)\n",
        "\n",
        "# Création des dossiers de traitement et de validation s'ils n'existent pas déjà\n",
        "train_dir = os.path.join(output_dir, 'train')\n",
        "val_dir = os.path.join(output_dir, 'validation')\n",
        "os.makedirs(train_dir, exist_ok=True)\n",
        "os.makedirs(val_dir, exist_ok=True)\n",
        "\n",
        "# Répartition des données en ensembles de traitement et de validation\n",
        "for folder_name in folder_names:\n",
        "    folder_path = os.path.join(data_dir, folder_name)\n",
        "    images = os.listdir(folder_path)\n",
        "    train_images, val_images = train_test_split(images, test_size=0.2, random_state=42)\n",
        "\n",
        "    # Création des sous-dossiers dans les ensembles de traitement et de validation\n",
        "    train_folder_path = os.path.join(train_dir, folder_name)\n",
        "    val_folder_path = os.path.join(val_dir, folder_name)\n",
        "    os.makedirs(train_folder_path, exist_ok=True)\n",
        "    os.makedirs(val_folder_path, exist_ok=True)\n",
        "\n",
        "    # Déplacement des images dans les sous-dossiers correspondants\n",
        "    for image in train_images:\n",
        "        shutil.copy(os.path.join(folder_path, image), os.path.join(train_folder_path, image))\n",
        "    for image in val_images:\n",
        "        shutil.copy(os.path.join(folder_path, image), os.path.join(val_folder_path, image))\n",
        "\n",
        "print(\"Données divisées en ensembles de traitement et de validation avec succès.\")\n",
        "\n",
        "# Création des générateurs de données pour l'entraînement et la validation avec data augmentation\n",
        "train_datagen = ImageDataGenerator(\n",
        "    rescale=1./255,\n",
        "    rotation_range=10,\n",
        "    width_shift_range=0.1,\n",
        "    height_shift_range=0.1,\n",
        "    shear_range=0.1,\n",
        "    zoom_range=0.1,\n",
        "    horizontal_flip=True,\n",
        "    fill_mode='nearest')\n",
        "\n",
        "val_datagen = ImageDataGenerator(rescale=1./255)  # Pas de data augmentation sur l'ensemble de validation\n",
        "\n",
        "train_generator = train_datagen.flow_from_directory(\n",
        "    train_dir,\n",
        "    target_size=(200, 200),\n",
        "    batch_size=32,\n",
        "    class_mode='categorical')\n",
        "\n",
        "val_generator = val_datagen.flow_from_directory(\n",
        "    val_dir,\n",
        "    target_size=(200, 200),\n",
        "    batch_size=32,\n",
        "    class_mode='categorical')\n"
      ],
      "metadata": {
        "colab": {
          "base_uri": "https://localhost:8080/"
        },
        "id": "lYfrgKSbYwS4",
        "outputId": "200a9d4f-5b41-4c63-c70b-4bfa44f32698"
      },
      "execution_count": 6,
      "outputs": [
        {
          "output_type": "stream",
          "name": "stdout",
          "text": [
            "Données divisées en ensembles de traitement et de validation avec succès.\n",
            "Found 1694 images belonging to 6 classes.\n",
            "Found 426 images belonging to 6 classes.\n"
          ]
        }
      ]
    },
    {
      "cell_type": "code",
      "source": [
        "# Calcul du nombre d'images d'origine dans l'ensemble d'entraînement et de validation\n",
        "num_train_images = sum(len(files) for _, _, files in os.walk(train_dir))\n",
        "num_val_images = sum(len(files) for _, _, files in os.walk(val_dir))\n",
        "\n",
        "# Calcul du nombre total de transformations appliquées à chaque image dans l'ensemble d'entraînement\n",
        "# En utilisant les paramètres de data augmentation spécifiés\n",
        "num_transformations_per_image = (1 + 10 + 1 + 1 + 1 + 1 + 1)  # Rotation + width_shift_range + height_shift_range + shear_range + zoom_range + horizontal_flip + fill_mode\n",
        "\n",
        "# Calcul du nouveau nombre d'images dans l'ensemble d'entraînement après data augmentation\n",
        "new_num_train_images = num_train_images * num_transformations_per_image\n",
        "\n",
        "print(\"Nombre d'images d'origine dans l'ensemble d'entraînement :\", num_train_images)\n",
        "print(\"Nombre d'images dans l'ensemble d'entraînement après data augmentation :\", new_num_train_images)\n",
        "\n",
        "# Calcul du nouveau nombre d'images dans l'ensemble de validation (aucune data augmentation)\n",
        "print(\"Nombre d'images d'origine dans l'ensemble de validation :\", num_val_images)\n"
      ],
      "metadata": {
        "colab": {
          "base_uri": "https://localhost:8080/"
        },
        "id": "0hHCWxFrai_o",
        "outputId": "0c9d16bd-1db4-42b7-fef7-01c88f7ed253"
      },
      "execution_count": 7,
      "outputs": [
        {
          "output_type": "stream",
          "name": "stdout",
          "text": [
            "Nombre d'images d'origine dans l'ensemble d'entraînement : 1694\n",
            "Nombre d'images dans l'ensemble d'entraînement après data augmentation : 27104\n",
            "Nombre d'images d'origine dans l'ensemble de validation : 426\n"
          ]
        }
      ]
    },
    {
      "cell_type": "code",
      "source": [
        "from keras.models import Sequential\n",
        "from keras.layers import Conv2D, MaxPooling2D, Flatten, Dense, Dropout\n",
        "from sklearn.model_selection import GridSearchCV\n",
        "from scikeras.wrappers import KerasClassifier\n",
        "\n",
        "\n",
        "train_generator = train_datagen.flow_from_directory(\n",
        "    train_dir,\n",
        "    target_size=(200, 200),\n",
        "    batch_size=32,\n",
        "    class_mode='categorical')\n",
        "\n",
        "val_generator = val_datagen.flow_from_directory(\n",
        "    val_dir,\n",
        "    target_size=(200, 200),\n",
        "    batch_size=32,\n",
        "    class_mode='categorical')\n",
        "\n",
        "# Define the Keras model as a function\n",
        "num_classes = len(train_generator.class_indices)\n",
        "img_size = (200, 200, 3)\n",
        "def create_model(optimizer='adam', dropout_rate=0.0):\n",
        "    model = Sequential([\n",
        "        Conv2D(32, (3, 3), activation='relu', input_shape=img_size),\n",
        "        MaxPooling2D((2, 2)),\n",
        "        Conv2D(64, (3, 3), activation='relu'),\n",
        "        MaxPooling2D((2, 2)),\n",
        "        Conv2D(128, (3, 3), activation='relu'),\n",
        "        MaxPooling2D((2, 2)),\n",
        "        Flatten(),\n",
        "        Dense(512, activation='relu'),\n",
        "        Dropout(dropout_rate),\n",
        "        Dense(num_classes, activation='softmax')\n",
        "    ])\n",
        "    model.compile(loss='categorical_crossentropy', optimizer=optimizer, metrics=['accuracy'])\n",
        "    return model\n",
        "\n",
        "# Create a KerasClassifier wrapper\n",
        "model = KerasClassifier(build_fn=create_model, verbose=0)\n",
        "\n",
        "# Define the hyperparameters grid\n",
        "param_grid = {\n",
        "    'batch_size': [16, 32],\n",
        "    'epochs': [10, 20],\n",
        "    'optimizer': ['adam', 'rmsprop'],\n",
        "    }\n",
        "\n",
        "#Convert the generators to arrays:\n",
        "train_images, train_labels = [], []\n",
        "val_images, val_labels = [], []\n",
        "\n",
        "for images, labels in train_generator:\n",
        "    train_images.append(images)\n",
        "    train_labels.append(labels)\n",
        "\n",
        "for images, labels in val_generator:\n",
        "    val_images.append(images)\n",
        "    val_labels.append(labels)\n",
        "\n",
        "train_images = np.concatenate(train_images)\n",
        "train_labels = np.concatenate(train_labels)\n",
        "\n",
        "val_images = np.concatenate(val_images)\n",
        "val_labels = np.concatenate(val_labels)\n",
        "# Perform grid search\n",
        "grid = GridSearchCV(estimator=model, param_grid=param_grid, cv=3)\n",
        "grid_result = grid.fit(train_images, train_labels, validation_data=(val_images, val_labels))\n",
        "# Print the best hyperparameters\n",
        "print(\"Best: %f using %s\" % (grid_result.best_score_, grid_result.best_params_))"
      ],
      "metadata": {
        "colab": {
          "base_uri": "https://localhost:8080/"
        },
        "id": "h1gBGhLuNoPs",
        "outputId": "128a740c-ae43-4d08-a866-40e46c26feb7"
      },
      "execution_count": null,
      "outputs": [
        {
          "output_type": "stream",
          "name": "stdout",
          "text": [
            "Found 1694 images belonging to 6 classes.\n",
            "Found 426 images belonging to 6 classes.\n"
          ]
        }
      ]
    },
    {
      "cell_type": "code",
      "source": [
        "# Création du modèle CNN\n",
        "num_classes = len(train_generator.class_indices)\n",
        "img_size = (200, 200, 3)\n",
        "#model = tf.keras.Sequential([\n",
        " #   layers.Conv2D(32, 3, activation='relu', input_shape=img_size),\n",
        "  #  layers.MaxPooling2D(),\n",
        "   # layers.Conv2D(32, 3, activation='relu'),\n",
        "    #layers.MaxPooling2D(),\n",
        "    #layers.Conv2D(32, 3, activation='relu'),\n",
        "   # layers.MaxPooling2D(),\n",
        "   # layers.Flatten(),\n",
        "   # layers.Dense(128, activation='relu'),\n",
        "   # layers.Dense(num_classes, activation='softmax')\n",
        "#])\n",
        "\n",
        "model = keras.models.Sequential([\n",
        "    keras.layers.Conv2D(32, (1,1), activation='relu', input_shape=img_size),\n",
        "    keras.layers.MaxPooling2D(3,3),\n",
        "    keras.layers.Conv2D(64, (1,1), activation='relu'),\n",
        "    keras.layers.Conv2D(64, (3,3), activation='relu'),\n",
        "    keras.layers.MaxPooling2D(3,3),\n",
        "    keras.layers.Conv2D(128, (1,1), activation='relu'),\n",
        "     keras.layers.Conv2D(128, (5,5), activation='relu'),\n",
        "    keras.layers.MaxPooling2D(3,3),\n",
        "    keras.layers.Conv2D(256, (1,1), activation='relu'),\n",
        "     keras.layers.Conv2D(256, (5,5), activation='relu'),\n",
        "    keras.layers.Flatten(),\n",
        "    keras.layers.Dense(512, activation='relu'),\n",
        "    keras.layers.Dense(num_classes, activation='softmax')\n",
        "])\n",
        "\n",
        "model.summary()\n",
        "\n",
        "# Callbacks TensorBoard et EarlyStopping\n",
        "log_dir = \"logs/\"\n",
        "tensorboard_callback = TensorBoard(log_dir=log_dir, histogram_freq=1, write_images=True)\n",
        "early_stopping = EarlyStopping(monitor='val_loss', patience=5, restore_best_weights=True)\n",
        "\n",
        "# Compilation du modèle\n",
        "model.compile(optimizer='adam', loss=\"categorical_crossentropy\", metrics=['accuracy'])\n",
        "\n",
        "# Entraînement du modèle\n",
        "history = model.fit(\n",
        "    train_generator,\n",
        "    validation_data=val_generator,\n",
        "    epochs=100,\n",
        "    callbacks=[tensorboard_callback, early_stopping])\n",
        "\n"
      ],
      "metadata": {
        "id": "5Whbf5Gw5ftn",
        "colab": {
          "base_uri": "https://localhost:8080/"
        },
        "outputId": "71929da0-d1e4-478d-b326-8be064c7b4c8"
      },
      "execution_count": null,
      "outputs": [
        {
          "output_type": "stream",
          "name": "stdout",
          "text": [
            "Model: \"sequential_1\"\n",
            "_________________________________________________________________\n",
            " Layer (type)                Output Shape              Param #   \n",
            "=================================================================\n",
            " conv2d_7 (Conv2D)           (None, 200, 200, 32)      128       \n",
            "                                                                 \n",
            " max_pooling2d_3 (MaxPoolin  (None, 66, 66, 32)        0         \n",
            " g2D)                                                            \n",
            "                                                                 \n",
            " conv2d_8 (Conv2D)           (None, 66, 66, 64)        2112      \n",
            "                                                                 \n",
            " conv2d_9 (Conv2D)           (None, 64, 64, 64)        36928     \n",
            "                                                                 \n",
            " max_pooling2d_4 (MaxPoolin  (None, 21, 21, 64)        0         \n",
            " g2D)                                                            \n",
            "                                                                 \n",
            " conv2d_10 (Conv2D)          (None, 21, 21, 128)       8320      \n",
            "                                                                 \n",
            " conv2d_11 (Conv2D)          (None, 17, 17, 128)       409728    \n",
            "                                                                 \n",
            " max_pooling2d_5 (MaxPoolin  (None, 5, 5, 128)         0         \n",
            " g2D)                                                            \n",
            "                                                                 \n",
            " conv2d_12 (Conv2D)          (None, 5, 5, 256)         33024     \n",
            "                                                                 \n",
            " conv2d_13 (Conv2D)          (None, 1, 1, 256)         1638656   \n",
            "                                                                 \n",
            " flatten_1 (Flatten)         (None, 256)               0         \n",
            "                                                                 \n",
            " dense_2 (Dense)             (None, 512)               131584    \n",
            "                                                                 \n",
            " dense_3 (Dense)             (None, 6)                 3078      \n",
            "                                                                 \n",
            "=================================================================\n",
            "Total params: 2263558 (8.63 MB)\n",
            "Trainable params: 2263558 (8.63 MB)\n",
            "Non-trainable params: 0 (0.00 Byte)\n",
            "_________________________________________________________________\n",
            "Epoch 1/100\n",
            "53/53 [==============================] - 24s 400ms/step - loss: 1.4279 - accuracy: 0.3831 - val_loss: 1.0744 - val_accuracy: 0.5446\n",
            "Epoch 2/100\n",
            "53/53 [==============================] - 22s 408ms/step - loss: 0.7758 - accuracy: 0.6665 - val_loss: 0.4632 - val_accuracy: 0.7864\n",
            "Epoch 3/100\n",
            "53/53 [==============================] - 22s 412ms/step - loss: 0.4654 - accuracy: 0.7804 - val_loss: 0.5159 - val_accuracy: 0.7441\n",
            "Epoch 4/100\n",
            "53/53 [==============================] - 21s 389ms/step - loss: 0.3130 - accuracy: 0.8542 - val_loss: 0.2872 - val_accuracy: 0.8826\n",
            "Epoch 5/100\n",
            "53/53 [==============================] - 22s 424ms/step - loss: 0.2403 - accuracy: 0.8896 - val_loss: 0.1484 - val_accuracy: 0.9460\n",
            "Epoch 6/100\n",
            "53/53 [==============================] - 22s 415ms/step - loss: 0.2006 - accuracy: 0.9115 - val_loss: 0.2165 - val_accuracy: 0.9131\n",
            "Epoch 7/100\n",
            "53/53 [==============================] - 21s 388ms/step - loss: 0.2124 - accuracy: 0.9168 - val_loss: 0.1611 - val_accuracy: 0.9319\n",
            "Epoch 8/100\n",
            "53/53 [==============================] - 22s 410ms/step - loss: 0.1897 - accuracy: 0.9103 - val_loss: 0.2142 - val_accuracy: 0.8897\n",
            "Epoch 9/100\n",
            "53/53 [==============================] - 22s 410ms/step - loss: 0.1539 - accuracy: 0.9351 - val_loss: 0.1456 - val_accuracy: 0.9249\n",
            "Epoch 10/100\n",
            "53/53 [==============================] - 23s 439ms/step - loss: 0.1555 - accuracy: 0.9321 - val_loss: 0.1688 - val_accuracy: 0.9343\n",
            "Epoch 11/100\n",
            "53/53 [==============================] - 23s 427ms/step - loss: 0.1422 - accuracy: 0.9362 - val_loss: 0.1390 - val_accuracy: 0.9460\n",
            "Epoch 12/100\n",
            "53/53 [==============================] - 22s 411ms/step - loss: 0.1494 - accuracy: 0.9345 - val_loss: 0.1050 - val_accuracy: 0.9554\n",
            "Epoch 13/100\n",
            "53/53 [==============================] - 21s 398ms/step - loss: 0.1235 - accuracy: 0.9463 - val_loss: 0.1014 - val_accuracy: 0.9531\n",
            "Epoch 14/100\n",
            "53/53 [==============================] - 21s 400ms/step - loss: 0.1098 - accuracy: 0.9481 - val_loss: 0.1145 - val_accuracy: 0.9484\n",
            "Epoch 15/100\n",
            "53/53 [==============================] - 22s 413ms/step - loss: 0.1235 - accuracy: 0.9392 - val_loss: 0.1064 - val_accuracy: 0.9507\n",
            "Epoch 16/100\n",
            "53/53 [==============================] - 20s 385ms/step - loss: 0.1313 - accuracy: 0.9421 - val_loss: 0.1308 - val_accuracy: 0.9484\n",
            "Epoch 17/100\n",
            "53/53 [==============================] - 22s 419ms/step - loss: 0.1498 - accuracy: 0.9362 - val_loss: 0.1549 - val_accuracy: 0.9437\n",
            "Epoch 18/100\n",
            "53/53 [==============================] - 22s 409ms/step - loss: 0.1424 - accuracy: 0.9380 - val_loss: 0.0995 - val_accuracy: 0.9554\n",
            "Epoch 19/100\n",
            "53/53 [==============================] - 22s 407ms/step - loss: 0.1170 - accuracy: 0.9457 - val_loss: 0.1048 - val_accuracy: 0.9554\n",
            "Epoch 20/100\n",
            "53/53 [==============================] - 22s 414ms/step - loss: 0.1166 - accuracy: 0.9457 - val_loss: 0.0996 - val_accuracy: 0.9554\n",
            "Epoch 21/100\n",
            "53/53 [==============================] - 22s 417ms/step - loss: 0.1386 - accuracy: 0.9357 - val_loss: 0.0998 - val_accuracy: 0.9554\n",
            "Epoch 22/100\n",
            "53/53 [==============================] - 23s 428ms/step - loss: 0.1168 - accuracy: 0.9451 - val_loss: 0.1073 - val_accuracy: 0.9531\n",
            "Epoch 23/100\n",
            "53/53 [==============================] - 21s 394ms/step - loss: 0.1300 - accuracy: 0.9386 - val_loss: 0.1037 - val_accuracy: 0.9460\n"
          ]
        }
      ]
    },
    {
      "cell_type": "code",
      "source": [
        "# Evaluate the model\n",
        "loss, accuracy = model.evaluate(val_generator, verbose=0)\n",
        "print(f'vall loss: {loss:.4f}')\n",
        "print(f'vall accuracy: {accuracy:.4f}')"
      ],
      "metadata": {
        "colab": {
          "base_uri": "https://localhost:8080/"
        },
        "id": "kl4tFRnZS-X3",
        "outputId": "2dfe9b95-93b8-4d3a-922d-6685584ec2a3"
      },
      "execution_count": null,
      "outputs": [
        {
          "output_type": "stream",
          "name": "stdout",
          "text": [
            "vall loss: 0.1032\n",
            "vall accuracy: 0.9460\n"
          ]
        }
      ]
    },
    {
      "cell_type": "code",
      "source": [
        "plt.plot(history.history[\"accuracy\"])\n",
        "plt.plot(history.history['val_accuracy'])\n",
        "plt.title(\"model accuracy\")\n",
        "plt.ylabel(\"Accuracy\")\n",
        "plt.xlabel(\"Epoch\")\n",
        "plt.legend([\"Accuracy\",\"Validation Accuracy\"])\n",
        "plt.show()"
      ],
      "metadata": {
        "colab": {
          "base_uri": "https://localhost:8080/",
          "height": 472
        },
        "id": "dTEswXCQXXo_",
        "outputId": "b96c3ac7-7864-4fe8-cb22-d75ca4565d71"
      },
      "execution_count": null,
      "outputs": [
        {
          "output_type": "display_data",
          "data": {
            "text/plain": [
              "<Figure size 640x480 with 1 Axes>"
            ],
            "image/png": "[encoded data removed]"
          },
          "metadata": {}
        }
      ]
    },
    {
      "cell_type": "code",
      "source": [
        "plt.plot(history.history[\"loss\"])\n",
        "plt.plot(history.history['val_loss'])\n",
        "plt.title(\"model loss\")\n",
        "plt.ylabel(\"loss\")\n",
        "plt.xlabel(\"Epoch\")\n",
        "plt.legend([\"loss\",\"Validation loss\"])\n",
        "plt.show()"
      ],
      "metadata": {
        "colab": {
          "base_uri": "https://localhost:8080/",
          "height": 472
        },
        "id": "JHZg72TPZW1p",
        "outputId": "788de5f7-baab-49bd-faf9-bd9752569263"
      },
      "execution_count": null,
      "outputs": [
        {
          "output_type": "display_data",
          "data": {
            "text/plain": [
              "<Figure size 640x480 with 1 Axes>"
            ],
            "image/png": "[encoded data removed]"
          },
          "metadata": {}
        }
      ]
    },
    {
      "cell_type": "code",
      "source": [
        "from sklearn.metrics import classification_report\n",
        "\n",
        "# Utilisez le modèle pour prédire les classes sur les données de validation\n",
        "y_pred = model.predict(val_generator)\n",
        "y_true = val_generator.classes\n",
        "\n",
        "# Convertissez les probabilités prédites en classes prédites (classe avec la probabilité la plus élevée)\n",
        "y_pred_classes = y_pred.argmax(axis=-1)\n",
        "\n",
        "# Calcul des métriques de classification\n",
        "report = classification_report(y_true, y_pred_classes, target_names=val_generator.class_indices, output_dict=True)\n",
        "\n",
        "# Affichage des métriques pour chaque classe\n",
        "for class_name, metrics in report.items():\n",
        "    print(f'Classe : {class_name}')\n",
        "    print(f'   Précision : {metrics[\"precision\"]}')\n",
        "    print(f'   Rappel : {metrics[\"recall\"]}')\n",
        "    print(f'   Score F1 : {metrics[\"f1-score\"]}')\n",
        "    print(f'   Support : {metrics[\"support\"]}\\n')"
      ],
      "metadata": {
        "colab": {
          "base_uri": "https://localhost:8080/",
          "height": 870
        },
        "id": "RKjX7PRcNUhN",
        "outputId": "5be16312-3130-4c24-c5e9-b37fe9f44c9c"
      },
      "execution_count": null,
      "outputs": [
        {
          "output_type": "stream",
          "name": "stdout",
          "text": [
            "14/14 [==============================] - 1s 93ms/step\n",
            "Classe : Looking Away\n",
            "   Précision : 0.12941176470588237\n",
            "   Rappel : 0.12941176470588237\n",
            "   Score F1 : 0.12941176470588237\n",
            "   Support : 85\n",
            "\n",
            "Classe : bored\n",
            "   Précision : 0.1836734693877551\n",
            "   Rappel : 0.125\n",
            "   Score F1 : 0.1487603305785124\n",
            "   Support : 72\n",
            "\n",
            "Classe : confused\n",
            "   Précision : 0.24324324324324326\n",
            "   Rappel : 0.24324324324324326\n",
            "   Score F1 : 0.24324324324324326\n",
            "   Support : 74\n",
            "\n",
            "Classe : drowsy\n",
            "   Précision : 0.15789473684210525\n",
            "   Rappel : 0.22641509433962265\n",
            "   Score F1 : 0.18604651162790695\n",
            "   Support : 53\n",
            "\n",
            "Classe : engaged\n",
            "   Précision : 0.21428571428571427\n",
            "   Rappel : 0.21428571428571427\n",
            "   Score F1 : 0.21428571428571427\n",
            "   Support : 70\n",
            "\n",
            "Classe : frustrated\n",
            "   Précision : 0.1111111111111111\n",
            "   Rappel : 0.1111111111111111\n",
            "   Score F1 : 0.1111111111111111\n",
            "   Support : 72\n",
            "\n",
            "Classe : accuracy\n"
          ]
        },
        {
          "output_type": "error",
          "ename": "TypeError",
          "evalue": "'float' object is not subscriptable",
          "traceback": [
            "\u001b[0;31m---------------------------------------------------------------------------\u001b[0m",
            "\u001b[0;31mTypeError\u001b[0m                                 Traceback (most recent call last)",
            "\u001b[0;32m<ipython-input-11-61e1fd4a5ec1>\u001b[0m in \u001b[0;36m<cell line: 14>\u001b[0;34m()\u001b[0m\n\u001b[1;32m     14\u001b[0m \u001b[0;32mfor\u001b[0m \u001b[0mclass_name\u001b[0m\u001b[0;34m,\u001b[0m \u001b[0mmetrics\u001b[0m \u001b[0;32min\u001b[0m \u001b[0mreport\u001b[0m\u001b[0;34m.\u001b[0m\u001b[0mitems\u001b[0m\u001b[0;34m(\u001b[0m\u001b[0;34m)\u001b[0m\u001b[0;34m:\u001b[0m\u001b[0;34m\u001b[0m\u001b[0;34m\u001b[0m\u001b[0m\n\u001b[1;32m     15\u001b[0m     \u001b[0mprint\u001b[0m\u001b[0;34m(\u001b[0m\u001b[0;34mf'Classe : {class_name}'\u001b[0m\u001b[0;34m)\u001b[0m\u001b[0;34m\u001b[0m\u001b[0;34m\u001b[0m\u001b[0m\n\u001b[0;32m---> 16\u001b[0;31m     \u001b[0mprint\u001b[0m\u001b[0;34m(\u001b[0m\u001b[0;34mf'   Précision : {metrics[\"precision\"]}'\u001b[0m\u001b[0;34m)\u001b[0m\u001b[0;34m\u001b[0m\u001b[0;34m\u001b[0m\u001b[0m\n\u001b[0m\u001b[1;32m     17\u001b[0m     \u001b[0mprint\u001b[0m\u001b[0;34m(\u001b[0m\u001b[0;34mf'   Rappel : {metrics[\"recall\"]}'\u001b[0m\u001b[0;34m)\u001b[0m\u001b[0;34m\u001b[0m\u001b[0;34m\u001b[0m\u001b[0m\n\u001b[1;32m     18\u001b[0m     \u001b[0mprint\u001b[0m\u001b[0;34m(\u001b[0m\u001b[0;34mf'   Score F1 : {metrics[\"f1-score\"]}'\u001b[0m\u001b[0;34m)\u001b[0m\u001b[0;34m\u001b[0m\u001b[0;34m\u001b[0m\u001b[0m\n",
            "\u001b[0;31mTypeError\u001b[0m: 'float' object is not subscriptable"
          ]
        }
      ]
    }
  ]
}